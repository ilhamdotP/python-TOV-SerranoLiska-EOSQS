{
 "cells": [
  {
   "cell_type": "code",
   "execution_count": 1,
   "metadata": {},
   "outputs": [],
   "source": [
    "import numpy as np #For the arrays\n",
    "\n",
    "data_ori = np.loadtxt(\"fedORI.dat\")[:, :]\n",
    "ped = data_ori[:,0]\n",
    "ed = data_ori[:,1]\n",
    "edmit = data_ori[:,2]\n",
    "\n",
    "data_pn = np.loadtxt(\"fedPN.dat\")[:, :] \n",
    "pres = data_pn[:,0]\n",
    "fed = data_pn[:,1] # sama dgn ed\n",
    "fedn = data_pn[:,2]\n",
    "\n",
    "data_length = len(ped)\n",
    "convert = 1.7827e12 \n",
    "# multiply with this to convert from MeV/fm^3 to g/cm^3\n",
    "\n",
    "# plotting:\n",
    "# original:     ped, ed\n",
    "# approx plus:  pres, fed\n",
    "# approx plus:  pres, fedn\n",
    "# MIT:          ped, edmit\n",
    "\n",
    "\n",
    "if os.path.exists('mod_data_EOS.csv'):\n",
    "    os.remove('mod_data_EOS.csv')\n",
    "for i in range(0, data_length, 1):\n",
    "    print(fed[i]*convert*1.e-15, \n",
    "        fedn[i]*convert*1.e-15, \n",
    "        pres[i]*convert*1.e-15, \n",
    "        ped[i]*convert*1.e-15, \n",
    "        edmit[i]*convert*1.e-15, \n",
    "        file=open('mod_data_EOS.csv', 'a'))"
   ]
  },
  {
   "cell_type": "code",
   "execution_count": 2,
   "metadata": {},
   "outputs": [
    {
     "data": {
      "text/plain": [
       "9275"
      ]
     },
     "execution_count": 2,
     "metadata": {},
     "output_type": "execute_result"
    }
   ],
   "source": [
    "data_length"
   ]
  },
  {
   "cell_type": "code",
   "execution_count": 61,
   "metadata": {},
   "outputs": [],
   "source": [
    "import numpy as np #For the arrays\n",
    "\n",
    "# some constants\n",
    "GS = 1.325 * 10**(-12) # Newton constant in fm^3 / MeV m^2\n",
    "MSS = 1.1155 * 10**(15) # Sun's mass in MeV m^3 / fm^3\n",
    "PI = np.pi \n",
    "HC = 197.327 # hc=1=197.327 MeV fm\n",
    "KN = 8*PI*GS\n",
    "\n",
    "# constants in eden\n",
    "B = 57 # MeV\n",
    "w = 1/3. # speed of sound\n",
    "a4 = 0.7 # don't know, dimensionless\n",
    "ms = 100 # quark mass in MeV\n",
    "\n",
    "# additional constants for tangential pressure\n",
    "BT = 57 # MeV\n",
    "a4t = 0.7 # don't know, dimensionless\n",
    "\n",
    "# constants for SL model\n",
    "ctilde = 1.e7 # meter^2\n",
    "\n",
    "# masalah satuan \n",
    "alpha = ms**2/(3*PI*np.sqrt(a4))*HC**(-1.5)\n",
    "beta = ms**4/(12*PI**2)*(1-1/a4)*HC**(-3)\n",
    "gamma = 8*PI/(3*ms**2*np.sqrt(a4))*HC**(1.5)\n",
    "kappa = 3/(1-1/a4)\n",
    "\n",
    "alphat = ms**2/(3*PI*np.sqrt(a4t))*HC**(-1.5)\n",
    "betat = ms**4/(12*PI**2)*(1-1/a4t)*HC**(-3)\n",
    "gammat = 8*PI/(3*ms**2*np.sqrt(a4t))*HC**(1.5)\n",
    "kappat = 3/(1-1/a4t)\n",
    "\n",
    "def eden_plus(P):\n",
    "    sqdoe = alpha**2 + 4*w*P + 12*w**2*B\n",
    "    doeden = alpha**2/(2*w**2) + alpha/(2*w**2)*np.sqrt(sqdoe)\n",
    "    lgPt = gamma*np.sqrt(P/w + 3*B + doeden)\n",
    "    Ptilde = P - beta*(1+kappa*np.log(lgPt))\n",
    "    sqde = alpha**2 + 4*w*Ptilde + 12*w**2*B\n",
    "    deden = alpha**2/(2*w**2) + alpha/(2*w**2)*np.sqrt(sqde)\n",
    "    # print(\"cek eden: \",sqdoe,doeden,lgPt,Ptilde,sqde,deden)\n",
    "    return P/w + 4*B + deden\n",
    "\n",
    "def eden_MIT(P):\n",
    "    return P/w + 4*B\n",
    "\n",
    "def eden_minus(P):\n",
    "    sqdoe = alpha**2 + 4*w*P + 12*w**2*B\n",
    "    doeden = alpha**2/(2*w**2) - alpha/(2*w**2)*np.sqrt(sqdoe)\n",
    "    lgPt = gamma*np.sqrt(P/w + 3*B + doeden)\n",
    "    Ptilde = P - beta*(1+kappa*np.log(lgPt))\n",
    "    sqde = alpha**2 + 4*w*Ptilde + 12*w**2*B\n",
    "    deden = alpha**2/(2*w**2) - alpha/(2*w**2)*np.sqrt(sqde)\n",
    "    # print(\"cek eden: \",sqdoe,doeden,lgPt,Ptilde,sqde,deden)\n",
    "    return P/w + 4*B + deden\n",
    "\n",
    "def press_ori(edden):\n",
    "    function_0 = gamma*np.sqrt(edden-B)\n",
    "    function = w*(edden-4*B) - alpha*np.sqrt(edden-B)\n",
    "    function = function + beta*(1+kappa*np.log(function_0))\n",
    "    return function\n",
    "\n",
    "\n",
    "convert = 1.7827e12 \n"
   ]
  },
  {
   "cell_type": "code",
   "execution_count": 62,
   "metadata": {},
   "outputs": [],
   "source": [
    "input_data = []\n",
    "for x in range(240, 3001, 20):\n",
    "    input_data.append(x)"
   ]
  },
  {
   "cell_type": "code",
   "execution_count": 63,
   "metadata": {},
   "outputs": [],
   "source": [
    "if os.path.exists('mod_data_EOS_python.csv'):\n",
    "    os.remove('mod_data_EOS_python.csv')\n",
    "for i in range(0, len(input_data), 1):\n",
    "    energy_density_ori = input_data[i]\n",
    "    pressure_ori = press_ori(energy_density_ori)\n",
    "    print(round(energy_density_ori*convert*1.e-15,4), \n",
    "        round(pressure_ori*convert*1.e-15,4), \n",
    "        round(eden_plus(pressure_ori)*convert*1.e-15,4), \n",
    "        round(eden_minus(pressure_ori)*convert*1.e-15,4), \n",
    "        round(eden_MIT(pressure_ori)*convert*1.e-15,4), \n",
    "        file=open('mod_data_EOS_python.csv', 'a'))"
   ]
  },
  {
   "cell_type": "code",
   "execution_count": 64,
   "metadata": {},
   "outputs": [
    {
     "name": "stdout",
     "output_type": "stream",
     "text": [
      "1.6064187234929141\n"
     ]
    },
    {
     "data": {
      "text/plain": [
       "1.6064"
      ]
     },
     "execution_count": 64,
     "metadata": {},
     "output_type": "execute_result"
    }
   ],
   "source": [
    "import decimal\n",
    "print(press_ori(3001.)*convert*1.e-15)\n",
    "round(press_ori(3001.)*convert*1.e-15,4)"
   ]
  },
  {
   "cell_type": "code",
   "execution_count": null,
   "metadata": {},
   "outputs": [],
   "source": []
  }
 ],
 "metadata": {
  "interpreter": {
   "hash": "b2441b2f31c705038cf996f1ab00f06ba67183193dd87cd37be71b16522f8514"
  },
  "kernelspec": {
   "display_name": "Python 3.8.5 ('base')",
   "language": "python",
   "name": "python3"
  },
  "language_info": {
   "codemirror_mode": {
    "name": "ipython",
    "version": 3
   },
   "file_extension": ".py",
   "mimetype": "text/x-python",
   "name": "python",
   "nbconvert_exporter": "python",
   "pygments_lexer": "ipython3",
   "version": "3.8.5"
  },
  "orig_nbformat": 4
 },
 "nbformat": 4,
 "nbformat_minor": 2
}
